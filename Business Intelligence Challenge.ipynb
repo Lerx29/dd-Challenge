{
 "cells": [
  {
   "cell_type": "markdown",
   "metadata": {},
   "source": [
    "0. Environment configuration"
   ]
  },
  {
   "cell_type": "code",
   "execution_count": null,
   "metadata": {},
   "outputs": [],
   "source": [
    "import pandas as pd\n",
    "from sqlalchemy import  create_engine"
   ]
  },
  {
   "cell_type": "code",
   "execution_count": null,
   "metadata": {},
   "outputs": [],
   "source": [
    "df_dates = pd.read_csv('date_info.csv')\n",
    "\n",
    "df_dates['calendar_date'] = pd.to_datetime(df_dates['calendar_date'],dayfirst=True)\n",
    "\n",
    "df_rest_visitor = pd.read_csv('restaurants_visitors.csv')\n",
    "\n",
    "df_rest_visitor = df_rest_visitor.loc[df_rest_visitor['visit_date'] != \"#VALUE!\"]\n",
    "\n",
    "df_rest_visitor['visit_date'] = pd.to_datetime(df_rest_visitor['visit_date'],dayfirst=True)\n",
    "\n",
    "df_store_info = pd.read_csv('store_info.csv')"
   ]
  },
  {
   "cell_type": "code",
   "execution_count": null,
   "metadata": {},
   "outputs": [],
   "source": [
    "print (df_rest_visitor)"
   ]
  },
  {
   "cell_type": "code",
   "execution_count": null,
   "metadata": {},
   "outputs": [],
   "source": [
    "print(df_dates)"
   ]
  },
  {
   "cell_type": "code",
   "execution_count": null,
   "metadata": {},
   "outputs": [],
   "source": [
    "print(df_store_info)"
   ]
  },
  {
   "cell_type": "code",
   "execution_count": null,
   "metadata": {},
   "outputs": [],
   "source": [
    "db_url = \"sqlite:///:memory:\"\n",
    "engine = engine = create_engine(db_url)\n",
    "\n",
    "df_dates.to_sql('dates', engine, index=False)\n",
    "df_rest_visitor.to_sql('restaurant_visitors', engine, index=False)\n",
    "df_store_info.to_sql('store_info',engine, index=False)"
   ]
  },
  {
   "cell_type": "markdown",
   "metadata": {},
   "source": [
    "1. Write the SQL queries necessary to generate a list of the five restaurants that have the highest average number of visitors on holidays. The result table should also contain that average per restaurant"
   ]
  },
  {
   "cell_type": "code",
   "execution_count": null,
   "metadata": {},
   "outputs": [],
   "source": [
    "query_1 = \"\"\"\n",
    "SELECT \n",
    "    a.[id] as restaurant,\n",
    "    AVG(a.[reserve_visitors]) as average_of_visitors \n",
    "FROM restaurant_visitors as a \n",
    "LEFT JOIN dates AS b \n",
    "ON a. [visit_date] = b. [calendar_date] \n",
    "WHERE b.[holiday_flg]=1 \n",
    "GROUP BY a.[id] \n",
    "ORDER BY average_of_visitors DESC \n",
    "LIMIT 5\n",
    "\"\"\"\n",
    "\n",
    "first_result = pd.read_sql_query(query_1,engine)\n",
    "\n",
    "print (first_result)"
   ]
  },
  {
   "cell_type": "markdown",
   "metadata": {},
   "source": [
    "2. Use SQL to discover which day of the week there are usually more visitors on average in restaurants.\n",
    "\n"
   ]
  },
  {
   "cell_type": "code",
   "execution_count": null,
   "metadata": {},
   "outputs": [],
   "source": [
    "query_2 = \"\"\"\n",
    "SELECT \n",
    "    b.[day_of_week] ,\n",
    "    AVG(a.[reserve_visitors]) as average_of_visitor \n",
    "FROM dates AS b \n",
    "LEFT JOIN restaurant_visitors AS a\n",
    "ON b. [calendar_date] = a. [visit_date] \n",
    "GROUP BY b.[day_of_week] \n",
    "ORDER BY average_of_visitor DESC\n",
    "\"\"\"\n",
    "\n",
    "second_result = pd.read_sql_query(query_2,engine)\n",
    "\n",
    "print (second_result)"
   ]
  },
  {
   "cell_type": "markdown",
   "metadata": {},
   "source": [
    "3. How was the percentage of growth of the amount of visitors week over week for the last four weeks of the data? Use SQL too"
   ]
  },
  {
   "cell_type": "code",
   "execution_count": null,
   "metadata": {},
   "outputs": [],
   "source": [
    "query_days = \"\"\"\n",
    "WITH amount_wow AS ( \n",
    "    SELECT\n",
    "        DATE(b.calendar_date, '-' || strftime('%w', b.calendar_date) || ' days') AS week_start, \n",
    "        SUM(a.reserve_visitors) AS amount_visitors \n",
    "    FROM dates AS b\n",
    "    LEFT JOIN restaurant_visitors AS a \n",
    "    ON b.calendar_date = a.visit_date\n",
    "    GROUP BY week_start) \n",
    "SELECT  \n",
    "    week_start,\n",
    "    amount_visitors,\n",
    "    LAG(amount_visitors) OVER (ORDER BY week_start) AS previous_week_amount,\n",
    "    (amount_visitors * 1.00 -LAG(amount_visitors) OVER (ORDER BY week_start))/LAG(amount_visitors) OVER (ORDER BY week_start)  AS  growth_visitors_wow\n",
    "FROM amount_wow \n",
    "ORDER BY week_start DESC \n",
    "LIMIT 4\n",
    "\"\"\"\n",
    "\n",
    "days_result = pd.read_sql_query(query_days,engine)\n",
    "\n",
    "print (days_result)"
   ]
  }
 ],
 "metadata": {
  "kernelspec": {
   "display_name": "base",
   "language": "python",
   "name": "python3"
  },
  "language_info": {
   "codemirror_mode": {
    "name": "ipython",
    "version": 3
   },
   "file_extension": ".py",
   "mimetype": "text/x-python",
   "name": "python",
   "nbconvert_exporter": "python",
   "pygments_lexer": "ipython3",
   "version": "3.8.10"
  }
 },
 "nbformat": 4,
 "nbformat_minor": 2
}
