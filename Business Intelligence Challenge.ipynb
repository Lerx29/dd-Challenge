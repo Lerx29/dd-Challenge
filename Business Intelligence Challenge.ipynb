{
 "cells": [
  {
   "cell_type": "markdown",
   "metadata": {},
   "source": [
    "0. Environment configuration"
   ]
  },
  {
   "cell_type": "code",
   "execution_count": 2,
   "metadata": {
    "vscode": {
     "languageId": "powershell"
    }
   },
   "outputs": [
    {
     "name": "stdout",
     "output_type": "stream",
     "text": [
      "Requirement already satisfied: pandas in c:\\users\\user\\appdata\\local\\programs\\python\\python38\\lib\\site-packages (2.0.3)\n",
      "Requirement already satisfied: numpy>=1.20.3 in c:\\users\\user\\appdata\\local\\programs\\python\\python38\\lib\\site-packages (from pandas) (1.24.4)\n",
      "Requirement already satisfied: tzdata>=2022.1 in c:\\users\\user\\appdata\\local\\programs\\python\\python38\\lib\\site-packages (from pandas) (2023.3)\n",
      "Requirement already satisfied: python-dateutil>=2.8.2 in c:\\users\\user\\appdata\\roaming\\python\\python38\\site-packages (from pandas) (2.8.2)\n",
      "Requirement already satisfied: pytz>=2020.1 in c:\\users\\user\\appdata\\local\\programs\\python\\python38\\lib\\site-packages (from pandas) (2023.3.post1)\n",
      "Requirement already satisfied: six>=1.5 in c:\\users\\user\\appdata\\roaming\\python\\python38\\site-packages (from python-dateutil>=2.8.2->pandas) (1.16.0)\n",
      "Note: you may need to restart the kernel to use updated packages.\n"
     ]
    },
    {
     "name": "stderr",
     "output_type": "stream",
     "text": [
      "WARNING: You are using pip version 21.1.1; however, version 23.3 is available.\n",
      "You should consider upgrading via the 'c:\\Users\\User\\AppData\\Local\\Programs\\Python\\Python38\\python.exe -m pip install --upgrade pip' command.\n"
     ]
    }
   ],
   "source": [
    "pip install pandas"
   ]
  },
  {
   "cell_type": "code",
   "execution_count": 3,
   "metadata": {
    "vscode": {
     "languageId": "powershell"
    }
   },
   "outputs": [
    {
     "name": "stdout",
     "output_type": "stream",
     "text": [
      "Requirement already satisfied: SQLAlchemy in c:\\users\\user\\appdata\\local\\programs\\python\\python38\\lib\\site-packages (2.0.22)\n",
      "Requirement already satisfied: greenlet!=0.4.17 in c:\\users\\user\\appdata\\local\\programs\\python\\python38\\lib\\site-packages (from SQLAlchemy) (3.0.0)\n",
      "Requirement already satisfied: typing-extensions>=4.2.0 in c:\\users\\user\\appdata\\roaming\\python\\python38\\site-packages (from SQLAlchemy) (4.8.0)\n",
      "Note: you may need to restart the kernel to use updated packages.\n"
     ]
    },
    {
     "name": "stderr",
     "output_type": "stream",
     "text": [
      "WARNING: You are using pip version 21.1.1; however, version 23.3 is available.\n",
      "You should consider upgrading via the 'c:\\Users\\User\\AppData\\Local\\Programs\\Python\\Python38\\python.exe -m pip install --upgrade pip' command.\n"
     ]
    }
   ],
   "source": [
    "pip install SQLAlchemy"
   ]
  },
  {
   "cell_type": "code",
   "execution_count": 4,
   "metadata": {},
   "outputs": [],
   "source": [
    "import pandas as pd\n",
    "from sqlalchemy import  create_engine"
   ]
  },
  {
   "cell_type": "code",
   "execution_count": 5,
   "metadata": {},
   "outputs": [],
   "source": [
    "df_dates = pd.read_csv('date_info.csv')\n",
    "\n",
    "df_dates['calendar_date'] = pd.to_datetime(df_dates['calendar_date'],dayfirst=True)\n",
    "\n",
    "df_rest_visitor = pd.read_csv('restaurants_visitors.csv')\n",
    "\n",
    "df_rest_visitor = df_rest_visitor.loc[df_rest_visitor['visit_date'] != \"#VALUE!\"]\n",
    "\n",
    "df_rest_visitor['visit_date'] = pd.to_datetime(df_rest_visitor['visit_date'],dayfirst=True)\n",
    "\n",
    "df_store_info = pd.read_csv('store_info.csv')"
   ]
  },
  {
   "cell_type": "code",
   "execution_count": 6,
   "metadata": {},
   "outputs": [
    {
     "name": "stdout",
     "output_type": "stream",
     "text": [
      "                     id visit_date    visit_datetime  reserve_datetime  \\\n",
      "0      db80363d35f10926 2016-01-01  01/01/2016 00:00  01/01/2016 01:00   \n",
      "1      db80363d35f10926 2016-01-02  02/01/2016 01:00  01/01/2016 16:00   \n",
      "2      db80363d35f10926 2016-01-02  02/01/2016 01:00  01/01/2016 15:00   \n",
      "3      db80363d35f10926 2016-01-02  02/01/2016 18:00  02/01/2016 14:00   \n",
      "4      db80363d35f10926 2016-01-02  02/01/2016 18:00  02/01/2016 02:00   \n",
      "...                 ...        ...               ...               ...   \n",
      "12157  3cad29d1a23209d2 2017-05-27  27/05/2017 21:00  09/02/2017 18:00   \n",
      "12158  1033310359ceeac1 2017-05-28  28/05/2017 23:00  15/04/2017 22:00   \n",
      "12159  1033310359ceeac1 2017-05-28  28/05/2017 23:00  18/04/2017 17:00   \n",
      "12160  1033310359ceeac1 2017-05-30  30/05/2017 23:00  19/04/2017 17:00   \n",
      "12161  3cad29d1a23209d2 2017-05-31  31/05/2017 21:00  22/04/2017 10:00   \n",
      "\n",
      "       reserve_visitors  \n",
      "0                     5  \n",
      "1                     2  \n",
      "2                     4  \n",
      "3                     2  \n",
      "4                     3  \n",
      "...                 ...  \n",
      "12157                 3  \n",
      "12158                 2  \n",
      "12159                 2  \n",
      "12160                 8  \n",
      "12161                 3  \n",
      "\n",
      "[8276 rows x 5 columns]\n"
     ]
    }
   ],
   "source": [
    "print (df_rest_visitor)"
   ]
  },
  {
   "cell_type": "code",
   "execution_count": 7,
   "metadata": {},
   "outputs": [
    {
     "name": "stdout",
     "output_type": "stream",
     "text": [
      "    calendar_date day_of_week  holiday_flg\n",
      "0      2016-01-01      Friday            1\n",
      "1      2016-01-02    Saturday            1\n",
      "2      2016-01-03      Sunday            1\n",
      "3      2016-01-04      Monday            0\n",
      "4      2016-01-05     Tuesday            0\n",
      "..            ...         ...          ...\n",
      "512    2017-05-27    Saturday            0\n",
      "513    2017-05-28      Sunday            0\n",
      "514    2017-05-29      Monday            0\n",
      "515    2017-05-30     Tuesday            0\n",
      "516    2017-05-31   Wednesday            0\n",
      "\n",
      "[517 rows x 3 columns]\n"
     ]
    }
   ],
   "source": [
    "print(df_dates)"
   ]
  },
  {
   "cell_type": "code",
   "execution_count": 8,
   "metadata": {},
   "outputs": [
    {
     "name": "stdout",
     "output_type": "stream",
     "text": [
      "             store_id             genre_name  \\\n",
      "0    0f0cdeee6c9bf3d7         Italian/French   \n",
      "1    7cc17a324ae5c7dc         Italian/French   \n",
      "2    fee8dcf4d619598e         Italian/French   \n",
      "3    a17f0778617c76e2         Italian/French   \n",
      "4    83db5aff8f50478e         Italian/French   \n",
      "..                ...                    ...   \n",
      "824  9bf595ef095572fb  International cuisine   \n",
      "825  764f71040a413d4d                  Asian   \n",
      "826  10bbe8acd943d8f6                  Asian   \n",
      "827  7514d90009613cd6          Karaoke/Party   \n",
      "828  c8fe396d6c46275d          Karaoke/Party   \n",
      "\n",
      "                                 area_name   latitude   longitude  \n",
      "0             Hyōgo-ken Kōbe-shi Kumoidōri  34.695124  135.197853  \n",
      "1             Hyōgo-ken Kōbe-shi Kumoidōri  34.695124  135.197853  \n",
      "2             Hyōgo-ken Kōbe-shi Kumoidōri  34.695124  135.197853  \n",
      "3             Hyōgo-ken Kōbe-shi Kumoidōri  34.695124  135.197853  \n",
      "4             Tōkyō-to Minato-ku Shibakōen  35.658068  139.751599  \n",
      "..                                     ...        ...         ...  \n",
      "824            Tōkyō-to Shibuya-ku Shibuya  35.661777  139.704051  \n",
      "825            Tōkyō-to Shibuya-ku Shibuya  35.661777  139.704051  \n",
      "826            Tōkyō-to Shibuya-ku Shibuya  35.661777  139.704051  \n",
      "827  Hokkaidō Sapporo-shi Minami 3 Jōnishi  43.055460  141.340956  \n",
      "828  Hokkaidō Sapporo-shi Minami 3 Jōnishi  43.055460  141.340956  \n",
      "\n",
      "[829 rows x 5 columns]\n"
     ]
    }
   ],
   "source": [
    "print(df_store_info)"
   ]
  },
  {
   "cell_type": "markdown",
   "metadata": {},
   "source": [
    "1. Write the SQL queries necessary to generate a list of the five restaurants that have the highest average number of visitors on holidays. The result table should also contain that average per restaurant"
   ]
  },
  {
   "cell_type": "code",
   "execution_count": 9,
   "metadata": {},
   "outputs": [
    {
     "ename": "NameError",
     "evalue": "name 'engine' is not defined",
     "output_type": "error",
     "traceback": [
      "\u001b[1;31m---------------------------------------------------------------------------\u001b[0m",
      "\u001b[1;31mNameError\u001b[0m                                 Traceback (most recent call last)",
      "\u001b[1;32mc:\\Users\\User\\Documents\\Data Engineer Training\\Data Analyst\\dd-Challenge\\Business Intelligence Challenge.ipynb Cell 10\u001b[0m line \u001b[0;36m1\n\u001b[0;32m      <a href='vscode-notebook-cell:/c%3A/Users/User/Documents/Data%20Engineer%20Training/Data%20Analyst/dd-Challenge/Business%20Intelligence%20Challenge.ipynb#X13sZmlsZQ%3D%3D?line=0'>1</a>\u001b[0m query_1 \u001b[39m=\u001b[39m \u001b[39m\"\"\"\u001b[39m\n\u001b[0;32m      <a href='vscode-notebook-cell:/c%3A/Users/User/Documents/Data%20Engineer%20Training/Data%20Analyst/dd-Challenge/Business%20Intelligence%20Challenge.ipynb#X13sZmlsZQ%3D%3D?line=1'>2</a>\u001b[0m \u001b[39mSELECT \u001b[39m\n\u001b[0;32m      <a href='vscode-notebook-cell:/c%3A/Users/User/Documents/Data%20Engineer%20Training/Data%20Analyst/dd-Challenge/Business%20Intelligence%20Challenge.ipynb#X13sZmlsZQ%3D%3D?line=2'>3</a>\u001b[0m \u001b[39m    a.[id] as restaurant,\u001b[39m\n\u001b[1;32m   (...)\u001b[0m\n\u001b[0;32m     <a href='vscode-notebook-cell:/c%3A/Users/User/Documents/Data%20Engineer%20Training/Data%20Analyst/dd-Challenge/Business%20Intelligence%20Challenge.ipynb#X13sZmlsZQ%3D%3D?line=10'>11</a>\u001b[0m \u001b[39mLIMIT 5\u001b[39m\n\u001b[0;32m     <a href='vscode-notebook-cell:/c%3A/Users/User/Documents/Data%20Engineer%20Training/Data%20Analyst/dd-Challenge/Business%20Intelligence%20Challenge.ipynb#X13sZmlsZQ%3D%3D?line=11'>12</a>\u001b[0m \u001b[39m\"\"\"\u001b[39m\n\u001b[1;32m---> <a href='vscode-notebook-cell:/c%3A/Users/User/Documents/Data%20Engineer%20Training/Data%20Analyst/dd-Challenge/Business%20Intelligence%20Challenge.ipynb#X13sZmlsZQ%3D%3D?line=13'>14</a>\u001b[0m first_result \u001b[39m=\u001b[39m pd\u001b[39m.\u001b[39mread_sql_query(query_1,engine)\n\u001b[0;32m     <a href='vscode-notebook-cell:/c%3A/Users/User/Documents/Data%20Engineer%20Training/Data%20Analyst/dd-Challenge/Business%20Intelligence%20Challenge.ipynb#X13sZmlsZQ%3D%3D?line=15'>16</a>\u001b[0m \u001b[39mprint\u001b[39m (first_result)\n",
      "\u001b[1;31mNameError\u001b[0m: name 'engine' is not defined"
     ]
    }
   ],
   "source": [
    "query_1 = \"\"\"\n",
    "SELECT \n",
    "    a.[id] as restaurant,\n",
    "    AVG(a.[reserve_visitors]) as average_of_visitors \n",
    "FROM restaurant_visitors as a \n",
    "LEFT JOIN dates AS b \n",
    "ON a. [visit_date] = b. [calendar_date] \n",
    "WHERE b.[holiday_flg]=1 \n",
    "GROUP BY a.[id] \n",
    "ORDER BY average_of_visitors DESC \n",
    "LIMIT 5\n",
    "\"\"\"\n",
    "\n",
    "first_result = pd.read_sql_query(query_1,engine)\n",
    "\n",
    "print (first_result)"
   ]
  },
  {
   "cell_type": "markdown",
   "metadata": {},
   "source": [
    "2. Use SQL to discover which day of the week there are usually more visitors on average in restaurants.\n",
    "\n"
   ]
  },
  {
   "cell_type": "code",
   "execution_count": null,
   "metadata": {},
   "outputs": [],
   "source": [
    "query_2 = \"\"\"\n",
    "SELECT \n",
    "    b.[day_of_week] ,\n",
    "    AVG(a.[reserve_visitors]) as average_of_visitor \n",
    "FROM dates AS b \n",
    "LEFT JOIN restaurant_visitors AS a\n",
    "ON b. [calendar_date] = a. [visit_date] \n",
    "GROUP BY b.[day_of_week] \n",
    "ORDER BY average_of_visitor DESC\n",
    "\"\"\"\n",
    "\n",
    "second_result = pd.read_sql_query(query_2,engine)\n",
    "\n",
    "print (second_result)\n",
    "\n",
    "# The answer is Friday"
   ]
  },
  {
   "cell_type": "markdown",
   "metadata": {},
   "source": [
    "3. How was the percentage of growth of the amount of visitors week over week for the last four weeks of the data? Use SQL too"
   ]
  },
  {
   "cell_type": "code",
   "execution_count": null,
   "metadata": {},
   "outputs": [],
   "source": [
    "query_days = \"\"\"\n",
    "WITH amount_wow AS ( \n",
    "    SELECT\n",
    "        DATE(b.calendar_date, '-' || strftime('%w', b.calendar_date) || ' days') AS week_start, \n",
    "        SUM(a.reserve_visitors) AS amount_visitors \n",
    "    FROM dates AS b\n",
    "    LEFT JOIN restaurant_visitors AS a \n",
    "    ON b.calendar_date = a.visit_date\n",
    "    GROUP BY week_start) \n",
    "SELECT  \n",
    "    week_start,\n",
    "    amount_visitors,\n",
    "    LAG(amount_visitors) OVER (ORDER BY week_start) AS previous_week_amount,\n",
    "    (amount_visitors * 1.00 -LAG(amount_visitors) OVER (ORDER BY week_start))/LAG(amount_visitors) OVER (ORDER BY week_start)  AS  growth_visitors_wow\n",
    "FROM amount_wow \n",
    "ORDER BY week_start DESC \n",
    "LIMIT 4\n",
    "\"\"\"\n",
    "\n",
    "days_result = pd.read_sql_query(query_days,engine)\n",
    "\n",
    "print (days_result)"
   ]
  }
 ],
 "metadata": {
  "kernelspec": {
   "display_name": "base",
   "language": "python",
   "name": "python3"
  },
  "language_info": {
   "codemirror_mode": {
    "name": "ipython",
    "version": 3
   },
   "file_extension": ".py",
   "mimetype": "text/x-python",
   "name": "python",
   "nbconvert_exporter": "python",
   "pygments_lexer": "ipython3",
   "version": "3.8.10"
  }
 },
 "nbformat": 4,
 "nbformat_minor": 2
}
